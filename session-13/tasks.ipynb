{
 "cells": [
  {
   "cell_type": "code",
   "execution_count": 13,
   "metadata": {},
   "outputs": [],
   "source": [
    "import re\n",
    "\n",
    "name_pattern = re.compile(r\"^[a-zA-Z]+\", re.M)\n",
    "phone_pattern = re.compile(r\"01\\d{9}\\s\")\n",
    "email_pattern = re.compile(r\"([a-zA-Z0-9._-]+@[a-zA-Z0-9_-]+(\\.[a-zA-Z]{2,})+)\")\n",
    "\n",
    "name_list = []\n",
    "phone_list = []\n",
    "email_list = []\n",
    "\n",
    "with open(\"./data.txt\", \"r\") as file:\n",
    "    content = file.read()\n",
    "\n",
    "    name_list = name_pattern.findall(content)\n",
    "    phone_list = [x.strip() for x in phone_pattern.findall(content)]\n",
    "    email_list = [x[0] for x in email_pattern.findall(content)]"
   ]
  },
  {
   "cell_type": "code",
   "execution_count": 14,
   "metadata": {},
   "outputs": [
    {
     "data": {
      "text/plain": [
       "['Amira',\n",
       " 'Akhenaten',\n",
       " 'Nefertiti',\n",
       " 'Khufu',\n",
       " 'Cleopatra',\n",
       " 'Ramses',\n",
       " 'Aten',\n",
       " 'Anubis',\n",
       " 'Hathor',\n",
       " 'Tutmosis',\n",
       " 'Sobek',\n",
       " 'Hatshepsut',\n",
       " 'Thutmose',\n",
       " 'Seti',\n",
       " 'Isis',\n",
       " 'Osiris',\n",
       " 'Ra',\n",
       " 'Maat',\n",
       " 'Horus',\n",
       " 'Ankh',\n",
       " 'Ptah',\n",
       " 'Bastet',\n",
       " 'Sekhmet',\n",
       " 'Khepri',\n",
       " 'Khonsu',\n",
       " 'Mut',\n",
       " 'Sobekhotep',\n",
       " 'Imhotep',\n",
       " 'Meritamen',\n",
       " 'Nut',\n",
       " 'Khafra',\n",
       " 'Anuket',\n",
       " 'Sobekneferu',\n",
       " 'Menes',\n",
       " 'Neith',\n",
       " 'Sheshi',\n",
       " 'Tefnut',\n",
       " 'Userkaf',\n",
       " 'Senusret',\n",
       " 'Mentuhotep',\n",
       " 'Amenemhat',\n",
       " 'Sobekemsaf',\n",
       " 'Khufukhaf',\n",
       " 'Horemheb',\n",
       " 'Ankhesenamun',\n",
       " 'Ay',\n",
       " 'Tiye',\n",
       " 'Amenhotep',\n",
       " 'Merneptah',\n",
       " 'Tuthmosis',\n",
       " 'Mohamed']"
      ]
     },
     "execution_count": 14,
     "metadata": {},
     "output_type": "execute_result"
    }
   ],
   "source": [
    "name_list"
   ]
  },
  {
   "cell_type": "code",
   "execution_count": 15,
   "metadata": {},
   "outputs": [
    {
     "data": {
      "text/plain": [
       "['01055551234',\n",
       " '01010101010',\n",
       " '01234567890',\n",
       " '01987654321',\n",
       " '01765432109',\n",
       " '01123456789',\n",
       " '01765432102',\n",
       " '01654321078',\n",
       " '01098765432',\n",
       " '01012345678',\n",
       " '01056789012',\n",
       " '01023456789',\n",
       " '01087654321',\n",
       " '01054321098',\n",
       " '01009876543',\n",
       " '01043210987',\n",
       " '01087654321',\n",
       " '01012345678',\n",
       " '01023456789',\n",
       " '01034567890',\n",
       " '01045678901',\n",
       " '01056789012',\n",
       " '01067890123',\n",
       " '01078901234',\n",
       " '01089012345',\n",
       " '01090123456',\n",
       " '01012345678',\n",
       " '01023456789',\n",
       " '01034567890',\n",
       " '01045678901',\n",
       " '01056789012',\n",
       " '01067890123',\n",
       " '01078901234',\n",
       " '01089012345',\n",
       " '01090123456',\n",
       " '01012345678',\n",
       " '01023456789',\n",
       " '01034567890',\n",
       " '01045678901',\n",
       " '01056789012',\n",
       " '01067890123',\n",
       " '01078901234',\n",
       " '01089012345',\n",
       " '01090123456',\n",
       " '01012345678',\n",
       " '01023456789',\n",
       " '01034567890',\n",
       " '01045678901',\n",
       " '01056789012',\n",
       " '01067890123',\n",
       " '01010101010']"
      ]
     },
     "execution_count": 15,
     "metadata": {},
     "output_type": "execute_result"
    }
   ],
   "source": [
    "phone_list"
   ]
  },
  {
   "cell_type": "code",
   "execution_count": 16,
   "metadata": {},
   "outputs": [
    {
     "data": {
      "text/plain": [
       "['Amira@emailpharaoh.com',\n",
       " 'Akhenaten.dasdasdasd@egyptmail.net',\n",
       " 'Nefertiti_thesecond@nilemail.com',\n",
       " 'Khufu@pyramidmail.net',\n",
       " 'Cleopatra@hotmail.com',\n",
       " 'Ramses@pharaohmail.com',\n",
       " 'Aten@egyptianmail.com',\n",
       " 'Anubis@yahoo.com',\n",
       " 'Hathor@pyramidmail.net',\n",
       " 'Tutmosis@gmail.com',\n",
       " 'Sobek@emailnile.com',\n",
       " 'Hatshepsut@egyptmail.net',\n",
       " 'Thutmose.the_third@nilemail.com',\n",
       " 'Seti@pharaohmail.com',\n",
       " 'Isis@egyptianmail.com',\n",
       " 'Osiris@yahoo.com',\n",
       " 'Ra@pyramidmail.net',\n",
       " 'Maat@gmail.com',\n",
       " 'Horus@emailpharaoh.com',\n",
       " 'Ankh@egyptmail.net',\n",
       " 'Ptah@nilemail.com',\n",
       " 'Bastet@pharaohmail.com',\n",
       " 'Sekhmet@hotmail.com',\n",
       " 'Khepri@egyptianmail.com',\n",
       " 'Khonsu@yahoo.com',\n",
       " 'Mut@pyramidmail.net',\n",
       " 'Sobekhotep@gmail.com',\n",
       " 'Imhotep@emailpharaoh.com',\n",
       " 'Meritamen@egyptmail.net',\n",
       " 'Nut@nilemail.com',\n",
       " 'Khafra@pharaohmail.com',\n",
       " 'Anuket@hotmail.com',\n",
       " 'Sobekneferu@egyptianmail.com',\n",
       " 'Menes@yahoo.com',\n",
       " 'Neith@pyramidmail.net',\n",
       " 'Sheshi@gmail.com',\n",
       " 'Tefnut@emailpharaoh.com',\n",
       " 'Userkaf@egyptmail.net',\n",
       " 'Senusret@nilemail.com',\n",
       " 'Mentuhotep@pharaohmail.com',\n",
       " 'Amenemhat@hotmail.com',\n",
       " 'Sobekemsaf@egyptianmail.com',\n",
       " 'Khufukhaf@yahoo.com',\n",
       " 'Horemheb.dserfe@pyramid-mail.net',\n",
       " 'Ankhesenamun@gmail.com',\n",
       " 'Ay@emailpharaoh.com',\n",
       " 'Tiye@egyptmail.net',\n",
       " 'Amenhotep@nilemail.com',\n",
       " 'Merneptah@pharaohmail.com',\n",
       " 'Tuthmosis@hotmail.edu.eg',\n",
       " '01078901234@gmail.com']"
      ]
     },
     "execution_count": 16,
     "metadata": {},
     "output_type": "execute_result"
    }
   ],
   "source": [
    "email_list"
   ]
  },
  {
   "cell_type": "code",
   "execution_count": null,
   "metadata": {},
   "outputs": [],
   "source": []
  }
 ],
 "metadata": {
  "kernelspec": {
   "display_name": "base",
   "language": "python",
   "name": "python3"
  },
  "language_info": {
   "codemirror_mode": {
    "name": "ipython",
    "version": 3
   },
   "file_extension": ".py",
   "mimetype": "text/x-python",
   "name": "python",
   "nbconvert_exporter": "python",
   "pygments_lexer": "ipython3",
   "version": "3.11.4"
  }
 },
 "nbformat": 4,
 "nbformat_minor": 2
}
