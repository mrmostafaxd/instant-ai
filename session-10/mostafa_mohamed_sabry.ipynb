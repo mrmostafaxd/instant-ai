{
 "cells": [
  {
   "attachments": {},
   "cell_type": "markdown",
   "metadata": {},
   "source": [
    "# An OOP Program for a library database system\n",
    "## Mostafa Mohamed Sabry"
   ]
  },
  {
   "attachments": {},
   "cell_type": "markdown",
   "metadata": {},
   "source": [
    "## Class Diagram:\n",
    "![class diagram](./images/Untitled.jpg)"
   ]
  },
  {
   "attachments": {},
   "cell_type": "markdown",
   "metadata": {},
   "source": [
    "## Code"
   ]
  },
  {
   "cell_type": "code",
   "execution_count": 286,
   "metadata": {},
   "outputs": [],
   "source": [
    "class DB:\n",
    "    def __init__(self, db_name):\n",
    "        self.__db = {}\n",
    "        self._db_name = db_name\n",
    "\n",
    "    def _add_entry(self, key, value):\n",
    "        self.__db[key] = value\n",
    "    \n",
    "    def _return_db(self):\n",
    "        return self.__db\n",
    "    \n",
    "    def _print_db(self):\n",
    "        for k, v in self.__db.items():\n",
    "            print(f'{k}: {v.__str__()}')\n",
    "    \n",
    "    def _add_multiple_entries(self, entry_list):\n",
    "        for entry in entry_list:\n",
    "            self.__db[entry[0]] = entry[1]\n",
    "\n",
    "    def _get_entry(self, key):\n",
    "        # will return none if the entry doesn't exist in the database\n",
    "        return self.__db.get(key, None)\n",
    "\n",
    "    def _remove_entry(self, key):\n",
    "        if not self._get_entry(key) is None:\n",
    "            value = self.__db.pop(key)\n",
    "            return value\n",
    "        return None\n",
    "    \n",
    "    def _close_db(self):\n",
    "        print(f'{self._db_name} will be removed')\n",
    "        del self.__db\n",
    "        del self._db_name\n",
    "\n",
    "    "
   ]
  },
  {
   "cell_type": "code",
   "execution_count": 287,
   "metadata": {},
   "outputs": [],
   "source": [
    "class Book:\n",
    "    def __init__(self, book_name):\n",
    "        self.name = book_name\n",
    "        self.__borrow_id = None\n",
    "\n",
    "    def get_borrow_id(self):\n",
    "        return self.__borrow_id\n",
    "\n",
    "    def set_borrow_id(self, borrow_id):\n",
    "        if self.get_borrow_id() is None:\n",
    "            self.__borrow_id = borrow_id\n",
    "            return True\n",
    "        return False\n",
    "\n",
    "    def reset_borrow_id(self):\n",
    "        self.__borrow_id = None\n",
    "\n",
    "    def __str__(self) -> str:\n",
    "        if self.get_borrow_id():\n",
    "            return f'book name: {self.name} and borrowed by: {self.get_borrow_id()}'\n",
    "        else:\n",
    "            return f'book name: {self.name} and NOT BORROWED'"
   ]
  },
  {
   "cell_type": "code",
   "execution_count": 288,
   "metadata": {},
   "outputs": [],
   "source": [
    "class BookDB(DB):\n",
    "    def __init__(self, initial_books=None):\n",
    "        super().__init__(\"Library\")\n",
    "        if not initial_books is None:\n",
    "            self._add_multiple_entries(initial_books)\n",
    "\n",
    "    def add_book(self, book_name):\n",
    "        if not self._get_entry(book_name):\n",
    "            temp_book = Book(book_name)\n",
    "            self._add_entry(book_name, temp_book)\n",
    "            return True\n",
    "        return False\n",
    "    \n",
    "    def print_books(self):\n",
    "        print(\"BOOK LIBRARY\")\n",
    "        print(\"============\")\n",
    "        self._print_db()\n",
    "    \n",
    "    def print_user_borrowed(self, borrower_id):\n",
    "        book_db = self._return_db()\n",
    "        for _, v in book_db.items():\n",
    "            if v.get_borrow_id() == borrower_id:\n",
    "                print(v)\n",
    "        \n",
    "    \n",
    "    def return_book(self, book_name, borrower_id):\n",
    "        temp_book: Book = self._get_entry(book_name)\n",
    "        if not temp_book:\n",
    "            print(f\"{book_name} is not found\")\n",
    "            return -1   # book is not found\n",
    "        \n",
    "        if not temp_book.get_borrow_id():\n",
    "            print(f\"{book_name} is not borrowed\")\n",
    "            return -3   # book is not borrowed\n",
    "        \n",
    "        if temp_book.get_borrow_id() != borrower_id:\n",
    "            print(f\"{book_name} is not borrowed by {borrower_id}\")\n",
    "            return -4   # book was not borrowed by the user\n",
    "        \n",
    "        temp_book.reset_borrow_id()\n",
    "        return 1\n",
    "\n",
    "    def borrow_book(self, book_name, borrower_id):\n",
    "        temp_book: Book = self._get_entry(book_name)\n",
    "        if not temp_book:\n",
    "            print(f\"{book_name} is not found\")\n",
    "            return -1   # book is not found\n",
    "        \n",
    "        if not temp_book.set_borrow_id(borrower_id):\n",
    "            print(f\"{book_name} is already borrowed\")\n",
    "            return -2  # book is already borrowed\n",
    "        \n",
    "        return 1 # success\n",
    "        "
   ]
  },
  {
   "cell_type": "code",
   "execution_count": 289,
   "metadata": {},
   "outputs": [],
   "source": [
    "class User:\n",
    "    def __init__(self, username, db: BookDB) -> None:\n",
    "        self.username = username\n",
    "        self.__db: BookDB = db\n",
    "    \n",
    "    def borrow_book(self, book_name):\n",
    "        return self.__db.borrow_book(book_name, self.username)\n",
    "    \n",
    "    def return_book(self, book_name):\n",
    "        return self.__db.return_book(book_name, self.username)\n",
    "    "
   ]
  },
  {
   "attachments": {},
   "cell_type": "markdown",
   "metadata": {},
   "source": [
    "### Create a library and fill it with books"
   ]
  },
  {
   "cell_type": "code",
   "execution_count": 290,
   "metadata": {},
   "outputs": [],
   "source": [
    "database = BookDB()"
   ]
  },
  {
   "cell_type": "code",
   "execution_count": 291,
   "metadata": {},
   "outputs": [
    {
     "data": {
      "text/plain": [
       "True"
      ]
     },
     "execution_count": 291,
     "metadata": {},
     "output_type": "execute_result"
    }
   ],
   "source": [
    "database.add_book(\"book1\")\n",
    "database.add_book(\"book2\")"
   ]
  },
  {
   "cell_type": "code",
   "execution_count": 292,
   "metadata": {},
   "outputs": [
    {
     "name": "stdout",
     "output_type": "stream",
     "text": [
      "BOOK LIBRARY\n",
      "============\n",
      "book1: book name: book1 and NOT BORROWED\n",
      "book2: book name: book2 and NOT BORROWED\n"
     ]
    }
   ],
   "source": [
    "database.print_books()"
   ]
  },
  {
   "attachments": {},
   "cell_type": "markdown",
   "metadata": {},
   "source": [
    "### Create a new user with name `mostafa` and make him borrow a book with name `book1`"
   ]
  },
  {
   "cell_type": "code",
   "execution_count": 293,
   "metadata": {},
   "outputs": [
    {
     "data": {
      "text/plain": [
       "1"
      ]
     },
     "execution_count": 293,
     "metadata": {},
     "output_type": "execute_result"
    }
   ],
   "source": [
    "user1 = User(\"mostafa\", database)\n",
    "user1.borrow_book(\"book1\")\n",
    "# user1.return_book(\"book3\")"
   ]
  },
  {
   "cell_type": "code",
   "execution_count": 294,
   "metadata": {},
   "outputs": [
    {
     "name": "stdout",
     "output_type": "stream",
     "text": [
      "BOOK LIBRARY\n",
      "============\n",
      "book1: book name: book1 and borrowed by: mostafa\n",
      "book2: book name: book2 and NOT BORROWED\n"
     ]
    }
   ],
   "source": [
    "database.print_books()"
   ]
  },
  {
   "attachments": {},
   "cell_type": "markdown",
   "metadata": {},
   "source": [
    "### Create a new user with name `mohamed` and make him borrow a book with name `book2` and try to borrow `book1` that `mostafa` already borrowed"
   ]
  },
  {
   "cell_type": "code",
   "execution_count": 295,
   "metadata": {},
   "outputs": [
    {
     "name": "stdout",
     "output_type": "stream",
     "text": [
      "book1 is already borrowed\n"
     ]
    },
    {
     "data": {
      "text/plain": [
       "-2"
      ]
     },
     "execution_count": 295,
     "metadata": {},
     "output_type": "execute_result"
    }
   ],
   "source": [
    "user2 = User(\"mohamed\", database)\n",
    "user2.borrow_book(\"book2\")\n",
    "user2.borrow_book(\"book1\")"
   ]
  },
  {
   "cell_type": "code",
   "execution_count": 296,
   "metadata": {},
   "outputs": [
    {
     "name": "stdout",
     "output_type": "stream",
     "text": [
      "BOOK LIBRARY\n",
      "============\n",
      "book1: book name: book1 and borrowed by: mostafa\n",
      "book2: book name: book2 and borrowed by: mohamed\n"
     ]
    }
   ],
   "source": [
    "database.print_books()"
   ]
  },
  {
   "attachments": {},
   "cell_type": "markdown",
   "metadata": {},
   "source": [
    "### make `mostafa` return `book1`"
   ]
  },
  {
   "cell_type": "code",
   "execution_count": 297,
   "metadata": {},
   "outputs": [
    {
     "data": {
      "text/plain": [
       "1"
      ]
     },
     "execution_count": 297,
     "metadata": {},
     "output_type": "execute_result"
    }
   ],
   "source": [
    "user1.return_book(\"book1\")"
   ]
  },
  {
   "cell_type": "code",
   "execution_count": 298,
   "metadata": {},
   "outputs": [
    {
     "name": "stdout",
     "output_type": "stream",
     "text": [
      "BOOK LIBRARY\n",
      "============\n",
      "book1: book name: book1 and NOT BORROWED\n",
      "book2: book name: book2 and borrowed by: mohamed\n"
     ]
    }
   ],
   "source": [
    "database.print_books()"
   ]
  },
  {
   "attachments": {},
   "cell_type": "markdown",
   "metadata": {},
   "source": [
    "### make `mohamed` try again to borrow `book1`"
   ]
  },
  {
   "cell_type": "code",
   "execution_count": 299,
   "metadata": {},
   "outputs": [
    {
     "data": {
      "text/plain": [
       "1"
      ]
     },
     "execution_count": 299,
     "metadata": {},
     "output_type": "execute_result"
    }
   ],
   "source": [
    "user2.borrow_book(\"book1\")"
   ]
  },
  {
   "cell_type": "code",
   "execution_count": 300,
   "metadata": {},
   "outputs": [
    {
     "name": "stdout",
     "output_type": "stream",
     "text": [
      "BOOK LIBRARY\n",
      "============\n",
      "book1: book name: book1 and borrowed by: mohamed\n",
      "book2: book name: book2 and borrowed by: mohamed\n"
     ]
    }
   ],
   "source": [
    "database.print_books()"
   ]
  },
  {
   "cell_type": "code",
   "execution_count": null,
   "metadata": {},
   "outputs": [],
   "source": []
  }
 ],
 "metadata": {
  "kernelspec": {
   "display_name": "base",
   "language": "python",
   "name": "python3"
  },
  "language_info": {
   "codemirror_mode": {
    "name": "ipython",
    "version": 3
   },
   "file_extension": ".py",
   "mimetype": "text/x-python",
   "name": "python",
   "nbconvert_exporter": "python",
   "pygments_lexer": "ipython3",
   "version": "3.9.13"
  },
  "orig_nbformat": 4
 },
 "nbformat": 4,
 "nbformat_minor": 2
}
