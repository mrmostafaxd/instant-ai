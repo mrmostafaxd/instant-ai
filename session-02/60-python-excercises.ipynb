{
 "cells": [
  {
   "cell_type": "markdown",
   "id": "759d04ba",
   "metadata": {},
   "source": [
    "**1-Write a Python program to calculate the length of a string using 2 ways<a id=\"problem1\"></a>"
   ]
  },
  {
   "cell_type": "code",
   "execution_count": 1,
   "id": "e434c950",
   "metadata": {
    "ExecuteTime": {
     "end_time": "2023-03-17T14:15:04.241150Z",
     "start_time": "2023-03-17T14:14:59.798042Z"
    }
   },
   "outputs": [
    {
     "name": "stdout",
     "output_type": "stream",
     "text": [
      "enter a string: hello world\n",
      "11\n"
     ]
    }
   ],
   "source": [
    "string = input(\"enter a string: \")\n",
    "print(len(string))"
   ]
  },
  {
   "cell_type": "code",
   "execution_count": 2,
   "id": "7a2dfa32",
   "metadata": {
    "ExecuteTime": {
     "end_time": "2023-03-17T14:15:07.507152Z",
     "start_time": "2023-03-17T14:15:07.503150Z"
    }
   },
   "outputs": [
    {
     "name": "stdout",
     "output_type": "stream",
     "text": [
      "11\n"
     ]
    }
   ],
   "source": [
    "counter = 0\n",
    "for i in string:\n",
    "    counter += 1\n",
    "print(counter)"
   ]
  },
  {
   "cell_type": "markdown",
   "id": "d7cc9da7",
   "metadata": {},
   "source": [
    "**2-Write a Python program to get a string made of the first 2 and last 2 characters of a given string. If the string length is less than 2, return the empty string instead (\"##Sample String : 'w3resource'\n",
    "Expected Result : 'w3ce'\n",
    "##Sample String : 'w3'\n",
    "Expected Result : 'w3w3'\n",
    "##Sample String : ' w'\n",
    "Expected Result : Empty String)\n",
    "\n",
    "<a id=\"problem2\"></a>"
   ]
  },
  {
   "cell_type": "code",
   "execution_count": 3,
   "id": "dafa9dd8",
   "metadata": {
    "ExecuteTime": {
     "end_time": "2023-03-17T14:16:13.977125Z",
     "start_time": "2023-03-17T14:16:13.330194Z"
    }
   },
   "outputs": [
    {
     "name": "stdout",
     "output_type": "stream",
     "text": [
      "enter a string: w3resource\n",
      "w3ce\n"
     ]
    }
   ],
   "source": [
    "string = input(\"enter a string: \")\n",
    "result = None\n",
    "if len(string) >= 2:\n",
    "    result = string[:2] + string[-2:]\n",
    "else:\n",
    "    result = \"\"\n",
    "print(result)"
   ]
  },
  {
   "cell_type": "markdown",
   "id": "1534f956",
   "metadata": {},
   "source": [
    "**3-Write a Python program to add 'ing' at the end of a given string (length should be at least 3). If the given string already ends with 'ing', add 'ly' instead. If the string length of the given string is less than 3, leave it unchanged. (Sample String : 'abc'\n",
    "Expected Result : 'abcing')<a id=\"problem3\"></a>"
   ]
  },
  {
   "cell_type": "code",
   "execution_count": 4,
   "id": "7ff8cec4",
   "metadata": {
    "ExecuteTime": {
     "end_time": "2023-03-17T14:20:55.432182Z",
     "start_time": "2023-03-17T14:20:54.250216Z"
    }
   },
   "outputs": [
    {
     "name": "stdout",
     "output_type": "stream",
     "text": [
      "enter a string: abc\n",
      "abcing\n"
     ]
    }
   ],
   "source": [
    "string = input(\"enter a string: \")\n",
    "if len(string) >= 3:\n",
    "    if string[-3:] == \"ing\":\n",
    "        string = string + \"ly\"\n",
    "    else:\n",
    "        string = string + \"ing\"\n",
    "print(string)"
   ]
  },
  {
   "cell_type": "markdown",
   "id": "1c0a6627",
   "metadata": {},
   "source": [
    "**4-Write a Python function that takes a list of words and return the longest word and the length of the longest one\n",
    "(Longest word: Exercises\n",
    "Length of the longest word: 9)<a id=\"problem4\"></a>"
   ]
  },
  {
   "cell_type": "code",
   "execution_count": 5,
   "id": "397341d9",
   "metadata": {
    "ExecuteTime": {
     "end_time": "2023-03-17T14:27:15.153296Z",
     "start_time": "2023-03-17T14:27:15.149042Z"
    }
   },
   "outputs": [],
   "source": [
    "def get_longest(words):\n",
    "    max_length = 0\n",
    "    max_word = None\n",
    "    for word in words:\n",
    "        if len(word) > max_length:\n",
    "            max_length = len(word)\n",
    "            max_word = word\n",
    "    return (max_word, max_length)\n"
   ]
  },
  {
   "cell_type": "code",
   "execution_count": 6,
   "id": "13f968b0",
   "metadata": {
    "ExecuteTime": {
     "end_time": "2023-03-17T14:27:16.023696Z",
     "start_time": "2023-03-17T14:27:16.020139Z"
    }
   },
   "outputs": [
    {
     "name": "stdout",
     "output_type": "stream",
     "text": [
      "Longest word: horasderewr, length of the longest word: 11\n"
     ]
    }
   ],
   "source": [
    "words = [\"hello\", \"hi\", \"hola\", \"horasderewr\", \"dorang\"]\n",
    "\n",
    "result = get_longest(words)\n",
    "print(f\"Longest word: {result[0]}, length of the longest word: {result[1]}\")"
   ]
  },
  {
   "cell_type": "markdown",
   "id": "53a03a6a",
   "metadata": {},
   "source": [
    "**5-Write a Python program to change a given string to a newly string where the first and last chars have been exchanged using 2 ways (Sample String:abca  Expected Result:ebce)<a id=\"problem5\"></a>"
   ]
  },
  {
   "cell_type": "code",
   "execution_count": 13,
   "id": "fd327d2a",
   "metadata": {},
   "outputs": [
    {
     "name": "stdout",
     "output_type": "stream",
     "text": [
      "enter a new string: ahmed\n",
      "dhmea\n"
     ]
    }
   ],
   "source": [
    "string = input(\"enter a new string: \")\n",
    "new_string = string[-1] + string[1:-1] + string[0]\n",
    "print(new_string)"
   ]
  },
  {
   "cell_type": "code",
   "execution_count": 17,
   "id": "285788b4",
   "metadata": {},
   "outputs": [
    {
     "name": "stdout",
     "output_type": "stream",
     "text": [
      "dhmea\n"
     ]
    }
   ],
   "source": [
    "new_string = list(string)\n",
    "new_string[0], new_string[-1] = new_string[-1], new_string[0]\n",
    "new_string = ''.join(new_string)\n",
    "print(new_string)"
   ]
  },
  {
   "cell_type": "markdown",
   "id": "25f89808",
   "metadata": {},
   "source": [
    "**6-Write a Python program to remove characters that have odd index values in a given string (Sample String:abca Expected Result:ac)<a id=\"problem6\"></a>"
   ]
  },
  {
   "cell_type": "code",
   "execution_count": 18,
   "id": "05959bd7",
   "metadata": {
    "ExecuteTime": {
     "end_time": "2023-03-17T16:26:11.811141Z",
     "start_time": "2023-03-17T16:26:06.224759Z"
    }
   },
   "outputs": [
    {
     "name": "stdout",
     "output_type": "stream",
     "text": [
      "enter a new string: abca\n",
      "ac\n"
     ]
    }
   ],
   "source": [
    "string = input(\"enter a new string: \")\n",
    "new_string = \"\"\n",
    "for i,ch in enumerate(string):\n",
    "    if i % 2 == 0: # even is odd because of zero-indexing\n",
    "        new_string += ch\n",
    "string = new_string\n",
    "print(string)"
   ]
  },
  {
   "cell_type": "code",
   "execution_count": 19,
   "id": "f52fdbf2",
   "metadata": {
    "ExecuteTime": {
     "end_time": "2023-03-17T16:26:30.898600Z",
     "start_time": "2023-03-17T16:26:26.386171Z"
    }
   },
   "outputs": [
    {
     "name": "stdout",
     "output_type": "stream",
     "text": [
      "enter a new string: abca\n",
      "ac\n"
     ]
    }
   ],
   "source": [
    "string = input(\"enter a new string: \")\n",
    "string = string[::2]\n",
    "print(string)"
   ]
  },
  {
   "cell_type": "markdown",
   "id": "eb16e898",
   "metadata": {},
   "source": [
    "**7-Write a Python program to count the occurrences of each word in a given sentence (Sample String:amr and ahmed are frindes but amr is the tallest Expected Result:2)<a id=\"problem7\"></a>"
   ]
  },
  {
   "cell_type": "code",
   "execution_count": 20,
   "id": "01ce6cf5",
   "metadata": {
    "ExecuteTime": {
     "end_time": "2023-03-17T16:21:11.110144Z",
     "start_time": "2023-03-17T16:21:11.103996Z"
    }
   },
   "outputs": [
    {
     "name": "stdout",
     "output_type": "stream",
     "text": [
      "2\n"
     ]
    }
   ],
   "source": [
    "import re\n",
    "string = \"amr and ahmed are frindes but amr is the tallest\"\n",
    "string = re.sub(r'\\W',' ',string) # if there are other separators like ','\n",
    "words_dict = dict()\n",
    "for word in string.split():\n",
    "    if word in words_dict:\n",
    "        words_dict[word] += 1\n",
    "    else:\n",
    "        words_dict[word] = 1\n",
    "print(words_dict[max(words_dict, key=words_dict.get)])"
   ]
  },
  {
   "cell_type": "markdown",
   "id": "4e8125f1",
   "metadata": {},
   "source": [
    "**8-Write a Python script that takes input from the user and displays that input back in upper and lower cases<a id=\"problem8\"></a>"
   ]
  },
  {
   "cell_type": "code",
   "execution_count": 21,
   "id": "66c8f778",
   "metadata": {
    "ExecuteTime": {
     "end_time": "2023-03-17T16:22:27.627904Z",
     "start_time": "2023-03-17T16:22:25.297184Z"
    }
   },
   "outputs": [
    {
     "name": "stdout",
     "output_type": "stream",
     "text": [
      "enter a string: hello\n",
      "HELLO\n",
      "hello\n"
     ]
    }
   ],
   "source": [
    "string = input(\"enter a string: \")\n",
    "print(string.upper())\n",
    "print(string.lower())"
   ]
  },
  {
   "cell_type": "markdown",
   "id": "fcd68aa1",
   "metadata": {},
   "source": [
    "**9-Write a Python function to reverse a string if its length is a multiple of 4<a id=\"problem9\"></a>"
   ]
  },
  {
   "cell_type": "code",
   "execution_count": 22,
   "id": "0671a931",
   "metadata": {
    "ExecuteTime": {
     "end_time": "2023-03-17T17:23:29.047153Z",
     "start_time": "2023-03-17T17:23:27.819280Z"
    },
    "scrolled": true
   },
   "outputs": [
    {
     "name": "stdout",
     "output_type": "stream",
     "text": [
      "enter a string: hell\n",
      "lleh\n"
     ]
    }
   ],
   "source": [
    "string = input(\"enter a string: \")\n",
    "string = string[::-1] if len(string) %4 == 0 else string\n",
    "print(string)"
   ]
  },
  {
   "cell_type": "markdown",
   "id": "b577c68d",
   "metadata": {},
   "source": [
    "**10- Write a Python program to remove a newline in Python<a id=\"problem10\"></a>"
   ]
  },
  {
   "cell_type": "code",
   "execution_count": 23,
   "id": "e0c6525a",
   "metadata": {
    "ExecuteTime": {
     "end_time": "2023-03-17T17:24:44.426484Z",
     "start_time": "2023-03-17T17:24:44.422824Z"
    }
   },
   "outputs": [
    {
     "name": "stdout",
     "output_type": "stream",
     "text": [
      "welcome to the new world Welcome again\n"
     ]
    }
   ],
   "source": [
    "string = 'welcome to the new world\\nWelcome again'\n",
    "string = string.replace('\\n', ' ')\n",
    "print(string)"
   ]
  },
  {
   "cell_type": "markdown",
   "id": "80db5ae0",
   "metadata": {},
   "source": [
    "**11-Write a Python program to check whether a string starts with specified characters<a id=\"problem11\"></a>"
   ]
  },
  {
   "cell_type": "code",
   "execution_count": 24,
   "id": "0cc4e03e",
   "metadata": {
    "ExecuteTime": {
     "end_time": "2023-03-17T17:31:58.937143Z",
     "start_time": "2023-03-17T17:31:58.933706Z"
    }
   },
   "outputs": [
    {
     "name": "stdout",
     "output_type": "stream",
     "text": [
      "string starts with a specified character\n"
     ]
    }
   ],
   "source": [
    "string = \"are you okay?\"\n",
    "\n",
    "specified_str = \"are\"\n",
    "\n",
    "if string.startswith(specified_str):\n",
    "    print(\"string starts with a specified character\")\n",
    "else:\n",
    "    print(\"string doesn't start with a specified character\")"
   ]
  },
  {
   "cell_type": "markdown",
   "id": "593a68db",
   "metadata": {},
   "source": [
    "**12- Write a Python program to add prefix text to all of the lines in a string<a id=\"problem12\"></a>"
   ]
  },
  {
   "cell_type": "code",
   "execution_count": 27,
   "id": "d2e46ada",
   "metadata": {
    "ExecuteTime": {
     "end_time": "2023-03-17T17:57:08.718701Z",
     "start_time": "2023-03-17T17:57:08.713952Z"
    }
   },
   "outputs": [
    {
     "name": "stdout",
     "output_type": "stream",
     "text": [
      ">> Hello y'all\n",
      ">> My name is Mostafa\n",
      ">> And I welcome you to this notebook\n",
      "\n"
     ]
    }
   ],
   "source": [
    "string = '''\n",
    "Hello y'all\n",
    "My name is Mostafa\n",
    "And I welcome you to this notebook\n",
    "'''\n",
    "\n",
    "prefix = \">> \"\n",
    "\n",
    "new_string = \"\"\n",
    "lines_list = string.split(\"\\n\")\n",
    "for i, line in enumerate(lines_list):\n",
    "    if (i == 0 or i == len(lines_list) - 1) and len(line.strip()) == 0:\n",
    "        continue\n",
    "    new_string += prefix + line + '\\n'\n",
    "string = new_string\n",
    "print(string)"
   ]
  },
  {
   "cell_type": "code",
   "execution_count": 28,
   "id": "de4eb34b",
   "metadata": {
    "ExecuteTime": {
     "end_time": "2023-03-17T17:38:35.817852Z",
     "start_time": "2023-03-17T17:38:35.812931Z"
    }
   },
   "outputs": [
    {
     "name": "stdout",
     "output_type": "stream",
     "text": [
      ">> This is line 1.\n",
      ">> This is line 2.\n",
      ">> This is line 3.\n"
     ]
    }
   ],
   "source": [
    "text = '''This is line 1.\n",
    "This is line 2.\n",
    "This is line 3.'''\n",
    "\n",
    "prefix = \">> \"\n",
    "\n",
    "prefixed_text = \"\\n\".join([prefix + line for line in text.split(\"\\n\")])\n",
    "\n",
    "print(prefixed_text)\n"
   ]
  },
  {
   "cell_type": "markdown",
   "id": "86fa1543",
   "metadata": {},
   "source": [
    "**13-Write a Python program to print the following numbers up to 2 decimal places<a id=\"problem13\"></a>"
   ]
  },
  {
   "cell_type": "code",
   "execution_count": 29,
   "id": "cd4a9d89",
   "metadata": {
    "ExecuteTime": {
     "end_time": "2023-03-17T18:00:59.504825Z",
     "start_time": "2023-03-17T18:00:59.501150Z"
    }
   },
   "outputs": [
    {
     "name": "stdout",
     "output_type": "stream",
     "text": [
      "number1 = 14.00\n",
      "number2 = 13.44\n"
     ]
    }
   ],
   "source": [
    "number1 = 13.9999\n",
    "number2 = 13.439123\n",
    "\n",
    "print(f\"number1 = {number1:.2f}\")\n",
    "print(f\"number2 = {number2:.2f}\")"
   ]
  },
  {
   "cell_type": "markdown",
   "id": "452c0ab0",
   "metadata": {},
   "source": [
    "**14-Write a Python program to print the following numbers up to 2 decimal places with a sign<a id=\"problem14\"></a>"
   ]
  },
  {
   "cell_type": "code",
   "execution_count": 30,
   "id": "73e82479",
   "metadata": {
    "ExecuteTime": {
     "end_time": "2023-03-17T18:02:06.961665Z",
     "start_time": "2023-03-17T18:02:06.957914Z"
    }
   },
   "outputs": [
    {
     "name": "stdout",
     "output_type": "stream",
     "text": [
      "number1 = +14.00\n",
      "number2 = +13.44\n",
      "number3 = -13.30\n"
     ]
    }
   ],
   "source": [
    "number1 = 13.9999\n",
    "number2 = 13.439123\n",
    "number3 = -13.299\n",
    "\n",
    "print(f\"number1 = {number1:+.2f}\")\n",
    "print(f\"number2 = {number2:+.2f}\")\n",
    "print(f\"number3 = {number3:+.2f}\")"
   ]
  },
  {
   "cell_type": "markdown",
   "id": "32b1811a",
   "metadata": {},
   "source": [
    "**15-Write a Python program to display a number with a comma separator<a id=\"problem15\"></a>"
   ]
  },
  {
   "cell_type": "code",
   "execution_count": 31,
   "id": "f30fc0b6",
   "metadata": {
    "ExecuteTime": {
     "end_time": "2023-03-17T18:16:31.796483Z",
     "start_time": "2023-03-17T18:16:31.791163Z"
    }
   },
   "outputs": [
    {
     "name": "stdout",
     "output_type": "stream",
     "text": [
      "1,922,129,340\n"
     ]
    }
   ],
   "source": [
    "number = 1922129340\n",
    "string = \"\"\n",
    "while(abs(number // 1000) > 0):\n",
    "    ch = \"\" if string == \"\" else \",\"\n",
    "    string = f\"{str(number % 1000)}{ch}{string}\"\n",
    "    number = number // 1000\n",
    "    if abs(number // 1000) == 0:\n",
    "        string = f\"{str(number)}{ch}{string}\"\n",
    "# string = str(number) + string\n",
    "print(string)"
   ]
  },
  {
   "cell_type": "code",
   "execution_count": 32,
   "id": "29a75808",
   "metadata": {
    "ExecuteTime": {
     "end_time": "2023-03-17T18:16:56.922554Z",
     "start_time": "2023-03-17T18:16:56.918764Z"
    }
   },
   "outputs": [
    {
     "name": "stdout",
     "output_type": "stream",
     "text": [
      "1,922,129,340\n"
     ]
    }
   ],
   "source": [
    "number = 1922129340\n",
    "\n",
    "print(f\"{number:,}\")"
   ]
  },
  {
   "cell_type": "markdown",
   "id": "0477f487",
   "metadata": {},
   "source": [
    "**16-Write a Python program to reverse a string using 2 ways<a id=\"problem16\"></a>"
   ]
  },
  {
   "cell_type": "code",
   "execution_count": 33,
   "id": "aa8beec8",
   "metadata": {
    "ExecuteTime": {
     "end_time": "2023-03-17T18:20:19.255897Z",
     "start_time": "2023-03-17T18:20:19.250146Z"
    }
   },
   "outputs": [
    {
     "name": "stdout",
     "output_type": "stream",
     "text": [
      "dlrow olleh\n"
     ]
    }
   ],
   "source": [
    "string = \"hello world\"\n",
    "string_rev = string[::-1]\n",
    "print(string_rev)"
   ]
  },
  {
   "cell_type": "code",
   "execution_count": 34,
   "id": "ce8d9108",
   "metadata": {
    "ExecuteTime": {
     "end_time": "2023-03-17T18:20:20.315842Z",
     "start_time": "2023-03-17T18:20:20.310013Z"
    }
   },
   "outputs": [
    {
     "name": "stdout",
     "output_type": "stream",
     "text": [
      "dlrow olleh\n"
     ]
    }
   ],
   "source": [
    "string = \"hello world\"\n",
    "string_rev = \"\"\n",
    "for ch in string:\n",
    "    string_rev = ch + string_rev\n",
    "print(string_rev)"
   ]
  },
  {
   "cell_type": "markdown",
   "id": "5afc3166",
   "metadata": {},
   "source": [
    " **17-Write a Python program to count repeated characters in a string (hint:use dictionary)<a id=\"problem17\"></a>"
   ]
  },
  {
   "cell_type": "code",
   "execution_count": 35,
   "id": "515a469c",
   "metadata": {
    "ExecuteTime": {
     "end_time": "2023-03-17T18:21:40.482752Z",
     "start_time": "2023-03-17T18:21:40.478406Z"
    }
   },
   "outputs": [
    {
     "name": "stdout",
     "output_type": "stream",
     "text": [
      "{'h': 1, 'e': 1, 'l': 3, 'o': 2, ' ': 1, 'w': 1, 'r': 1, 'd': 1}\n"
     ]
    }
   ],
   "source": [
    "string = \"hello world\"\n",
    "\n",
    "characters = dict()\n",
    "\n",
    "for ch in string:\n",
    "    if ch in characters:\n",
    "        characters[ch] += 1\n",
    "    else:\n",
    "        characters[ch] = 1\n",
    "\n",
    "print(characters)"
   ]
  },
  {
   "cell_type": "markdown",
   "id": "ae14e4e5",
   "metadata": {},
   "source": [
    "**18-Write a Python program to find the first non-repeating character in a given string<a id=\"problem18\"></a>"
   ]
  },
  {
   "cell_type": "code",
   "execution_count": 39,
   "id": "d73778e5",
   "metadata": {
    "ExecuteTime": {
     "end_time": "2023-03-17T18:23:41.273970Z",
     "start_time": "2023-03-17T18:23:41.269446Z"
    }
   },
   "outputs": [
    {
     "name": "stdout",
     "output_type": "stream",
     "text": [
      "e\n"
     ]
    }
   ],
   "source": [
    "string = \"hhello world\"\n",
    "\n",
    "characters = dict()\n",
    "\n",
    "for ch in string:\n",
    "    if ch in characters:\n",
    "        characters[ch] += 1\n",
    "    else:\n",
    "        characters[ch] = 1\n",
    "\n",
    "result = None\n",
    "for key, value in characters.items():\n",
    "    if value == 1:\n",
    "        result = key\n",
    "        break\n",
    "print(result)"
   ]
  },
  {
   "cell_type": "markdown",
   "id": "3adf5669",
   "metadata": {},
   "source": [
    "**19-Write a Python program to remove spaces from a given string<a id=\"problem19\"></a>"
   ]
  },
  {
   "cell_type": "code",
   "execution_count": 40,
   "id": "b4f22602",
   "metadata": {
    "ExecuteTime": {
     "end_time": "2023-03-17T18:24:39.563486Z",
     "start_time": "2023-03-17T18:24:39.560103Z"
    }
   },
   "outputs": [
    {
     "name": "stdout",
     "output_type": "stream",
     "text": [
      "helloworldandhellopeople\n"
     ]
    }
   ],
   "source": [
    "string = \"hello world and hello people\"\n",
    "\n",
    "string = string.replace(\" \", \"\")\n",
    "print(string)"
   ]
  },
  {
   "cell_type": "code",
   "execution_count": 41,
   "id": "6ac84760",
   "metadata": {
    "ExecuteTime": {
     "end_time": "2023-03-17T18:26:40.967185Z",
     "start_time": "2023-03-17T18:26:40.962283Z"
    }
   },
   "outputs": [
    {
     "name": "stdout",
     "output_type": "stream",
     "text": [
      "helloworldandhellopeople\n"
     ]
    }
   ],
   "source": [
    "string = \"hello world and hello people\"\n",
    "string_new = \"\"\n",
    "for ch in string:\n",
    "    if ch != \" \":\n",
    "        string_new += ch\n",
    "\n",
    "print(string_new)"
   ]
  },
  {
   "cell_type": "markdown",
   "id": "734de60c",
   "metadata": {},
   "source": [
    "**20-Write a Python program to count the number of non-empty substrings of a given string<a id=\"problem20\"></a>"
   ]
  },
  {
   "cell_type": "code",
   "execution_count": 43,
   "id": "ef3f2274",
   "metadata": {
    "ExecuteTime": {
     "end_time": "2023-03-17T18:40:46.951248Z",
     "start_time": "2023-03-17T18:40:46.942312Z"
    }
   },
   "outputs": [
    {
     "name": "stdout",
     "output_type": "stream",
     "text": [
      "66\n"
     ]
    }
   ],
   "source": [
    "string = \"hello world\"\n",
    "num = 0\n",
    "# iterate on the letters\n",
    "for k in range(len(string)):\n",
    "    # iterate from the selected rest:\n",
    "    for i in range(k, len(string)):\n",
    "        result = \"\"\n",
    "        # build a string from the selected letter to the rest\n",
    "        for j in range(i, len(string)):\n",
    "            result += string[j]\n",
    "        num += 1\n",
    "print(num)"
   ]
  },
  {
   "cell_type": "code",
   "execution_count": 44,
   "id": "9ac098da",
   "metadata": {
    "ExecuteTime": {
     "end_time": "2023-03-17T18:40:47.953520Z",
     "start_time": "2023-03-17T18:40:47.946621Z"
    }
   },
   "outputs": [
    {
     "name": "stdout",
     "output_type": "stream",
     "text": [
      "66\n"
     ]
    }
   ],
   "source": [
    "print(len(string) * (len(string) + 1) // 2)"
   ]
  },
  {
   "cell_type": "markdown",
   "id": "509998e2",
   "metadata": {},
   "source": [
    "**21-write a Python program to swap first and last element of any list.<a id=\"problem21\"></a>"
   ]
  },
  {
   "cell_type": "code",
   "execution_count": 45,
   "id": "cbcaeccf",
   "metadata": {
    "ExecuteTime": {
     "end_time": "2023-03-17T18:40:50.652907Z",
     "start_time": "2023-03-17T18:40:50.648469Z"
    }
   },
   "outputs": [
    {
     "name": "stdout",
     "output_type": "stream",
     "text": [
      "[6, 2, 3, 4, 5, 1]\n"
     ]
    }
   ],
   "source": [
    "test_list = [1,2,3,4,5,6]\n",
    "\n",
    "if len(test_list) > 1:\n",
    "    first_element = test_list.pop(0)\n",
    "    last_element = test_list.pop()\n",
    "\n",
    "    test_list.insert(0, last_element)\n",
    "    test_list.append(first_element)\n",
    "\n",
    "print(test_list)"
   ]
  },
  {
   "cell_type": "markdown",
   "id": "959e0837",
   "metadata": {},
   "source": [
    "**22-Given a list in Python and provided the positions of the elements, write a program to swap the two elements in the list. (Input : List = [23, 65, 19, 90], pos1 = 1, pos2 = 3\n",
    "Output : [19, 65, 23, 90])<a id=\"problem22\"></a>"
   ]
  },
  {
   "cell_type": "code",
   "execution_count": 46,
   "id": "225d8c6d",
   "metadata": {
    "ExecuteTime": {
     "end_time": "2023-03-17T18:55:53.386877Z",
     "start_time": "2023-03-17T18:55:53.381720Z"
    }
   },
   "outputs": [
    {
     "name": "stdout",
     "output_type": "stream",
     "text": [
      "[19, 65, 23, 90]\n"
     ]
    }
   ],
   "source": [
    "List = [23, 65, 19, 90]\n",
    "pos1 = 1\n",
    "pos2 = 3\n",
    "\n",
    "first_element = List.pop(pos1 - 1)\n",
    "second_element = List.pop(pos2 - 2)\n",
    "\n",
    "List.insert(pos1 - 1,second_element)\n",
    "List.insert(pos2 - 1, first_element)\n",
    "\n",
    "print(List)"
   ]
  },
  {
   "cell_type": "markdown",
   "id": "66fc6682",
   "metadata": {},
   "source": [
    "**23- search for the all ways to know the length of the list<a id=\"problem23\"></a>"
   ]
  },
  {
   "cell_type": "code",
   "execution_count": 47,
   "id": "c80e3a55",
   "metadata": {
    "ExecuteTime": {
     "end_time": "2023-03-17T19:45:07.601556Z",
     "start_time": "2023-03-17T19:45:07.597393Z"
    }
   },
   "outputs": [
    {
     "name": "stdout",
     "output_type": "stream",
     "text": [
      "8\n"
     ]
    }
   ],
   "source": [
    "list_input = [1,2,3,4,5,6,7,8]\n",
    "i = 0\n",
    "for ch in list_input:\n",
    "    i += 1\n",
    "\n",
    "print(i)"
   ]
  },
  {
   "cell_type": "code",
   "execution_count": 48,
   "id": "705102de",
   "metadata": {
    "ExecuteTime": {
     "end_time": "2023-03-17T19:45:18.073693Z",
     "start_time": "2023-03-17T19:45:18.070074Z"
    }
   },
   "outputs": [
    {
     "name": "stdout",
     "output_type": "stream",
     "text": [
      "8\n"
     ]
    }
   ],
   "source": [
    "list_input = [1,2,3,4,5,6,7,8]\n",
    "print(len(list_input))"
   ]
  },
  {
   "cell_type": "code",
   "execution_count": 49,
   "id": "117da978",
   "metadata": {
    "ExecuteTime": {
     "end_time": "2023-03-17T19:46:34.980557Z",
     "start_time": "2023-03-17T19:46:34.976674Z"
    }
   },
   "outputs": [
    {
     "name": "stdout",
     "output_type": "stream",
     "text": [
      "8\n"
     ]
    }
   ],
   "source": [
    "list_input = [1,2,3,4,5,6,7,8]\n",
    "length = 0\n",
    "for i, ch in enumerate(list_input):\n",
    "    length = i + 1\n",
    "print(length)"
   ]
  },
  {
   "cell_type": "code",
   "execution_count": 50,
   "id": "8d83932a",
   "metadata": {
    "ExecuteTime": {
     "end_time": "2023-03-17T19:47:18.937798Z",
     "start_time": "2023-03-17T19:47:18.934172Z"
    }
   },
   "outputs": [
    {
     "name": "stdout",
     "output_type": "stream",
     "text": [
      "8\n"
     ]
    }
   ],
   "source": [
    "from operator import length_hint\n",
    "\n",
    "list_input = [1,2,3,4,5,6,7,8]\n",
    "print(length_hint(list_input))"
   ]
  },
  {
   "cell_type": "code",
   "execution_count": 51,
   "id": "0aa0fec0",
   "metadata": {
    "ExecuteTime": {
     "end_time": "2023-03-17T19:48:22.465437Z",
     "start_time": "2023-03-17T19:48:22.461113Z"
    }
   },
   "outputs": [
    {
     "name": "stdout",
     "output_type": "stream",
     "text": [
      "8\n"
     ]
    }
   ],
   "source": [
    "list_input = [1,2,3,4,5,6,7,8]\n",
    "print(sum(1 for _ in list_input))"
   ]
  },
  {
   "cell_type": "markdown",
   "id": "866d12bc",
   "metadata": {},
   "source": [
    "**24-write a Python code to find the Maximum number of list of numbers.<a id=\"problem24\"></a>"
   ]
  },
  {
   "cell_type": "code",
   "execution_count": 52,
   "id": "acf3661a",
   "metadata": {
    "ExecuteTime": {
     "end_time": "2023-03-17T19:52:05.189386Z",
     "start_time": "2023-03-17T19:52:05.185681Z"
    }
   },
   "outputs": [
    {
     "name": "stdout",
     "output_type": "stream",
     "text": [
      "45\n"
     ]
    }
   ],
   "source": [
    "list_test = [1,9,10,2,3,45,6,7,2]\n",
    "print(max(list_test))"
   ]
  },
  {
   "cell_type": "markdown",
   "id": "9e532c70",
   "metadata": {},
   "source": [
    "**25-write a Python code to find the Minimum number of list of numbers.<a id=\"problem25\"></a>"
   ]
  },
  {
   "cell_type": "code",
   "execution_count": 53,
   "id": "c2512a73",
   "metadata": {
    "ExecuteTime": {
     "end_time": "2023-03-17T19:52:10.873085Z",
     "start_time": "2023-03-17T19:52:10.869270Z"
    }
   },
   "outputs": [
    {
     "name": "stdout",
     "output_type": "stream",
     "text": [
      "1\n"
     ]
    }
   ],
   "source": [
    "list_test = [1,9,10,2,3,45,6,7,2]\n",
    "print(min(list_test))"
   ]
  },
  {
   "cell_type": "markdown",
   "id": "96822d96",
   "metadata": {},
   "source": [
    "**26-search for if an elem is existing in list<a id=\"problem26\"></a>"
   ]
  },
  {
   "cell_type": "code",
   "execution_count": 54,
   "id": "51ca5c9a",
   "metadata": {
    "ExecuteTime": {
     "end_time": "2023-03-17T19:53:15.693528Z",
     "start_time": "2023-03-17T19:53:15.690014Z"
    }
   },
   "outputs": [
    {
     "name": "stdout",
     "output_type": "stream",
     "text": [
      "False\n"
     ]
    }
   ],
   "source": [
    "list_test = [1,9,10,2,3,45,6,7,2]\n",
    "search_el = 99\n",
    "print(search_el in list_test)"
   ]
  },
  {
   "cell_type": "markdown",
   "id": "d9557da7",
   "metadata": {},
   "source": [
    "**27- clear python list using different ways<a id=\"problem27\"></a>"
   ]
  },
  {
   "cell_type": "code",
   "execution_count": 55,
   "id": "b69858a3",
   "metadata": {
    "ExecuteTime": {
     "end_time": "2023-03-17T19:53:51.037312Z",
     "start_time": "2023-03-17T19:53:51.031710Z"
    }
   },
   "outputs": [
    {
     "name": "stdout",
     "output_type": "stream",
     "text": [
      "[]\n"
     ]
    }
   ],
   "source": [
    "list_test = [1,9,10,2,3,45,6,7,2]\n",
    "list_test.clear()\n",
    "print(list_test)"
   ]
  },
  {
   "cell_type": "code",
   "execution_count": 56,
   "id": "6c3af2cf",
   "metadata": {
    "ExecuteTime": {
     "end_time": "2023-03-17T19:54:27.413449Z",
     "start_time": "2023-03-17T19:54:27.410135Z"
    }
   },
   "outputs": [
    {
     "name": "stdout",
     "output_type": "stream",
     "text": [
      "[]\n"
     ]
    }
   ],
   "source": [
    "list_test = [1,9,10,2,3,45,6,7,2]\n",
    "list_test *= 0\n",
    "print(list_test)"
   ]
  },
  {
   "cell_type": "code",
   "execution_count": 57,
   "id": "fa5994d9",
   "metadata": {
    "ExecuteTime": {
     "end_time": "2023-03-17T19:55:12.204431Z",
     "start_time": "2023-03-17T19:55:12.200467Z"
    }
   },
   "outputs": [
    {
     "name": "stdout",
     "output_type": "stream",
     "text": [
      "[]\n"
     ]
    }
   ],
   "source": [
    "list_test = [1,9,10,2,3,45,6,7,2]\n",
    "for _ in range(len(list_test)):\n",
    "    list_test.pop()\n",
    "print(list_test)"
   ]
  },
  {
   "cell_type": "markdown",
   "id": "52160e88",
   "metadata": {},
   "source": [
    "**28-remove duplicated elements from a list<a id=\"problem28\"></a>"
   ]
  },
  {
   "cell_type": "code",
   "execution_count": 58,
   "id": "5e362228",
   "metadata": {
    "ExecuteTime": {
     "end_time": "2023-03-17T19:57:23.498669Z",
     "start_time": "2023-03-17T19:57:23.494525Z"
    }
   },
   "outputs": [
    {
     "name": "stdout",
     "output_type": "stream",
     "text": [
      "[1, 2, 3, 6, 7, 9, 10, 45]\n"
     ]
    }
   ],
   "source": [
    "list_test = [1,9,10,2,3,45,6,7,7,9,2]\n",
    "list_test = set(list_test)\n",
    "list_test = list(list_test)\n",
    "print(list_test)"
   ]
  },
  {
   "cell_type": "code",
   "execution_count": 59,
   "id": "392231c8",
   "metadata": {
    "ExecuteTime": {
     "end_time": "2023-03-17T19:58:52.566062Z",
     "start_time": "2023-03-17T19:58:52.560000Z"
    }
   },
   "outputs": [
    {
     "name": "stdout",
     "output_type": "stream",
     "text": [
      "[1, 9, 10, 2, 3, 45, 6, 7]\n"
     ]
    }
   ],
   "source": [
    "list_test = [1,9,10,2,3,45,6,7,7,9,2]\n",
    "new_list = []\n",
    "for el in list_test:\n",
    "    is_found = False\n",
    "    for new_el in new_list:\n",
    "        if new_el == el:\n",
    "            is_found = True\n",
    "            break\n",
    "    if not is_found:\n",
    "        new_list.append(el)\n",
    "\n",
    "print(new_list)"
   ]
  },
  {
   "cell_type": "markdown",
   "id": "282337f7",
   "metadata": {},
   "source": [
    "**29-Given list values and keys list, convert these values to key value pairs in form of list of dictionaries. (Input : test_list = [“Gfg”, 3, “is”, 8], key_list = [“name”, “id”]\n",
    "Output : [{‘name’: ‘Gfg’, ‘id’: 3}, {‘name’: ‘is’, ‘id’: 8}])<a id=\"problem29\"></a>"
   ]
  },
  {
   "cell_type": "code",
   "execution_count": 60,
   "id": "4d4e2d28",
   "metadata": {
    "ExecuteTime": {
     "end_time": "2023-03-17T20:12:42.716061Z",
     "start_time": "2023-03-17T20:12:42.711743Z"
    }
   },
   "outputs": [
    {
     "name": "stdout",
     "output_type": "stream",
     "text": [
      "[{'name': 'Gfg', 'id': 3}, {'name': 'is', 'id': 8}]\n"
     ]
    }
   ],
   "source": [
    "test_list = [\"Gfg\", 3, \"is\", 8]\n",
    "key_list = [\"name\", \"id\"]\n",
    "\n",
    "dict_list = []\n",
    "for i in range(0, len(test_list), len(key_list)):\n",
    "    dict_el = dict()\n",
    "    for j in range(len(key_list)):\n",
    "        dict_el[key_list[j]] = test_list[j + i]\n",
    "    dict_list.append(dict_el)\n",
    "\n",
    "print(dict_list)"
   ]
  },
  {
   "cell_type": "markdown",
   "id": "c26b6e9f",
   "metadata": {},
   "source": [
    "**30-write a python program to count unique values inside a list using different ways<a id=\"problem30\"></a>"
   ]
  },
  {
   "cell_type": "code",
   "execution_count": 61,
   "id": "6f9d560b",
   "metadata": {
    "ExecuteTime": {
     "end_time": "2023-03-17T20:13:21.930642Z",
     "start_time": "2023-03-17T20:13:21.924258Z"
    }
   },
   "outputs": [
    {
     "name": "stdout",
     "output_type": "stream",
     "text": [
      "8\n"
     ]
    }
   ],
   "source": [
    "list_test = [1,9,10,2,3,45,6,7,7,9,2]\n",
    "print(len(set(list_test)))"
   ]
  },
  {
   "cell_type": "code",
   "execution_count": 67,
   "id": "4e8ddbeb",
   "metadata": {
    "ExecuteTime": {
     "end_time": "2023-03-17T20:14:10.105666Z",
     "start_time": "2023-03-17T20:14:10.101151Z"
    }
   },
   "outputs": [
    {
     "name": "stdout",
     "output_type": "stream",
     "text": [
      "8\n"
     ]
    }
   ],
   "source": [
    "list_test = [1,9,10,2,3,45,6,7,7,9,2]\n",
    "new_list = []\n",
    "for el in list_test:\n",
    "    is_found = False\n",
    "    for new_el in new_list:\n",
    "        if new_el == el:\n",
    "            is_found = True\n",
    "            break\n",
    "    if not is_found:\n",
    "        new_list.append(el)\n",
    "\n",
    "print(len(new_list))"
   ]
  },
  {
   "cell_type": "code",
   "execution_count": 68,
   "id": "72132667",
   "metadata": {
    "ExecuteTime": {
     "end_time": "2023-03-17T20:16:23.746902Z",
     "start_time": "2023-03-17T20:16:23.742476Z"
    }
   },
   "outputs": [
    {
     "name": "stdout",
     "output_type": "stream",
     "text": [
      "8\n"
     ]
    }
   ],
   "source": [
    "import numpy as np\n",
    "list_test = [1,9,10,2,3,45,6,7,7,9,2]\n",
    "print(len(np.unique(list_test)))"
   ]
  },
  {
   "cell_type": "markdown",
   "id": "fed6677c",
   "metadata": {},
   "source": [
    "**31-write a python program Extract all elements with Frequency greater than K (Input : test_list = [4, 6, 4, 3, 3, 4, 3, 4, 3, 8], K = 3 \n",
    "Output : [4, 3] )<a id=\"problem31\"></a>"
   ]
  },
  {
   "cell_type": "code",
   "execution_count": 69,
   "id": "d81f3f9d",
   "metadata": {
    "ExecuteTime": {
     "end_time": "2023-03-17T20:22:14.196693Z",
     "start_time": "2023-03-17T20:22:14.191913Z"
    }
   },
   "outputs": [
    {
     "name": "stdout",
     "output_type": "stream",
     "text": [
      "[4, 3]\n"
     ]
    }
   ],
   "source": [
    "test_list = [4, 6, 4, 3, 3, 4, 3, 4, 3, 8]\n",
    "k = 3\n",
    "\n",
    "test_dict = dict()\n",
    "for el in test_list:\n",
    "    if el in test_dict:\n",
    "        test_dict[el] += 1\n",
    "    else:\n",
    "        test_dict[el] = 1\n",
    "\n",
    "print([el for el,val in test_dict.items() if val > k])"
   ]
  },
  {
   "cell_type": "code",
   "execution_count": 70,
   "id": "a909a29b",
   "metadata": {
    "ExecuteTime": {
     "end_time": "2023-03-17T20:23:38.790543Z",
     "start_time": "2023-03-17T20:23:38.785933Z"
    }
   },
   "outputs": [
    {
     "name": "stdout",
     "output_type": "stream",
     "text": [
      "[4, 3]\n"
     ]
    }
   ],
   "source": [
    "test_list = [4, 6, 4, 3, 3, 4, 3, 4, 3, 8]\n",
    "k = 3\n",
    "\n",
    "print(list({ el: el for el in test_list if test_list.count(el) > k}.keys()))"
   ]
  },
  {
   "cell_type": "markdown",
   "id": "caca5224",
   "metadata": {},
   "source": [
    "**32-write a python program to find the Strongest Neighbour (Input: 1 2 2 3 4 5\n",
    "Output: 2 2 3 4 5)<a id=\"problem32\"></a>"
   ]
  },
  {
   "cell_type": "code",
   "execution_count": 71,
   "id": "39fbd9b2",
   "metadata": {
    "ExecuteTime": {
     "end_time": "2023-03-17T20:28:03.436326Z",
     "start_time": "2023-03-17T20:28:03.431876Z"
    }
   },
   "outputs": [
    {
     "name": "stdout",
     "output_type": "stream",
     "text": [
      "[5]\n"
     ]
    }
   ],
   "source": [
    "# test_list = [1, 2, 2, 3, 4, 5]\n",
    "test_list = [5, 5]\n",
    "\n",
    "result = []\n",
    "for i in range(len(test_list) - 1):\n",
    "    result.append(max(test_list[i], test_list[i + 1]))\n",
    "print(result)"
   ]
  },
  {
   "cell_type": "markdown",
   "id": "a9fa8baf",
   "metadata": {},
   "source": [
    "**33-write a Python Program to print all Possible Combinations from the three Digits (Input: [1, 2, 3]\n",
    "Output:\n",
    "1 2 3 ##\n",
    "1 3 2 ##\n",
    "2 1 3 ##\n",
    "2 3 1 ##\n",
    "3 1 2 ##\n",
    "3 2 1)<a id=\"problem33\"></a>"
   ]
  },
  {
   "cell_type": "code",
   "execution_count": 72,
   "id": "8c520a76",
   "metadata": {
    "ExecuteTime": {
     "end_time": "2023-03-17T22:17:36.179593Z",
     "start_time": "2023-03-17T22:17:36.174193Z"
    }
   },
   "outputs": [
    {
     "name": "stdout",
     "output_type": "stream",
     "text": [
      "1 2 3\n",
      "1 3 2\n",
      "2 1 3\n",
      "2 3 1\n",
      "3 1 2\n",
      "3 2 1\n"
     ]
    }
   ],
   "source": [
    "def perm(arr, count, selected, result):\n",
    "    if count == len(arr):\n",
    "        print(' '.join(map(str,result)))\n",
    "        return\n",
    "    for i in range(len(arr)):\n",
    "        if selected[i]:\n",
    "            continue\n",
    "        \n",
    "        selected[i] = True\n",
    "        \n",
    "        cp = selected[:]\n",
    "        \n",
    "        result2 = result[:]\n",
    "        result2.append(arr[i])\n",
    "        \n",
    "        perm(arr, count + 1, cp, result2)\n",
    "        selected[i]  = False\n",
    "\n",
    "input_list = [1, 2, 3] \n",
    "selected = [False] * len(input_list)\n",
    "perm(input_list, 0, [False, False, False], [])"
   ]
  },
  {
   "cell_type": "code",
   "execution_count": 73,
   "id": "6fa4cb34",
   "metadata": {
    "ExecuteTime": {
     "end_time": "2023-03-17T22:17:40.114869Z",
     "start_time": "2023-03-17T22:17:40.110894Z"
    }
   },
   "outputs": [
    {
     "name": "stdout",
     "output_type": "stream",
     "text": [
      "1 2 3\n",
      "1 3 2\n",
      "2 1 3\n",
      "2 3 1\n",
      "3 1 2\n",
      "3 2 1\n"
     ]
    }
   ],
   "source": [
    "from itertools import permutations\n",
    "input_list = [1, 2, 3] \n",
    "\n",
    "p = permutations(input_list)\n",
    "\n",
    "for j in p:\n",
    "    print(' '.join(map(str, list(j))))\n"
   ]
  },
  {
   "cell_type": "markdown",
   "id": "5288bb89",
   "metadata": {},
   "source": [
    "**34-write a Python program to find all the Combinations in the list with the given condition (Input: test_list = [1,2,3] \n",
    "Output: \n",
    " [1], [1, 2], [1, 2, 3], [1, 3]\n",
    " [2], [2, 3], [3])<a id=\"problem34\"></a>"
   ]
  },
  {
   "cell_type": "code",
   "execution_count": 74,
   "id": "74ade1d8",
   "metadata": {
    "ExecuteTime": {
     "end_time": "2023-03-17T22:17:43.019413Z",
     "start_time": "2023-03-17T22:17:43.015530Z"
    }
   },
   "outputs": [
    {
     "name": "stdout",
     "output_type": "stream",
     "text": [
      "[1]\n",
      "[1, 2]\n",
      "[1, 2, 3]\n",
      "[2, 3]\n",
      "[2]\n",
      "[2, 3]\n",
      "[3]\n",
      "[3]\n",
      "[]\n"
     ]
    }
   ],
   "source": [
    "test_list = [1,2,3] \n",
    "for i in range(len(test_list)):\n",
    "    iter_list = [test_list[i]]\n",
    "    iter_list_2 = []\n",
    "    print(iter_list)\n",
    "    for j in range(i + 1, len(test_list)):\n",
    "        iter_list.append(test_list[j])\n",
    "        iter_list_2.append(test_list[j])\n",
    "        print(iter_list)\n",
    "    print(iter_list_2)\n",
    "    "
   ]
  },
  {
   "cell_type": "code",
   "execution_count": 75,
   "id": "8ca93790",
   "metadata": {
    "ExecuteTime": {
     "end_time": "2023-03-17T22:20:37.783684Z",
     "start_time": "2023-03-17T22:20:37.779650Z"
    }
   },
   "outputs": [
    {
     "name": "stdout",
     "output_type": "stream",
     "text": [
      "[1]\n",
      "[2]\n",
      "[3]\n",
      "[1, 2]\n",
      "[1, 3]\n",
      "[2, 3]\n",
      "[1, 2, 3]\n"
     ]
    }
   ],
   "source": [
    "from itertools import combinations\n",
    "def all_combinations(arr, length):\n",
    "    for i in range(1, length + 1):\n",
    "        temp = combinations(arr, i)\n",
    "        for j in temp:\n",
    "            print(list(j))\n",
    "\n",
    "test_list = [1,2,3] \n",
    "\n",
    "all_combinations(test_list, 3)"
   ]
  },
  {
   "cell_type": "markdown",
   "id": "39973705",
   "metadata": {},
   "source": [
    "**35-write a Python program to get all unique combinations of two Lists (List_1 = [\"a\",\"b\"]\n",
    "List_2 = [1,2]\n",
    "Unique_combination = [[('a',1),('b',2)],[('a',2),('b',1)]] )<a id=\"problem35\"></a>"
   ]
  },
  {
   "cell_type": "code",
   "execution_count": 6,
   "id": "8c4ba22b",
   "metadata": {
    "ExecuteTime": {
     "end_time": "2023-03-30T17:33:52.432927Z",
     "start_time": "2023-03-30T17:33:52.417087Z"
    }
   },
   "outputs": [
    {
     "name": "stdout",
     "output_type": "stream",
     "text": [
      "('a', 'b')\n",
      "('b', 'a')\n",
      "[[('a', 1), ('b', 2)], [('b', 1), ('a', 2)]]\n"
     ]
    }
   ],
   "source": [
    "from itertools import permutations\n",
    "list_1 = [\"a\", \"b\"]\n",
    "list_2 = [1, 2]\n",
    "\n",
    "p = permutations(list_1, len(list_2))\n",
    "combinations_list = []\n",
    "\n",
    "for el in p:\n",
    "    print(el)\n",
    "    combinations_list.append(list(zip(el, list_2)))\n",
    "\n",
    "print(combinations_list)"
   ]
  },
  {
   "cell_type": "markdown",
   "id": "25199af5",
   "metadata": {},
   "source": [
    "**36-Remove all the occurrences of an element from a list in Python (Input : 1 1 2 3 4 5 1 2 1 \n",
    "\n",
    "**Output : 2 3 4 5 2)"
   ]
  },
  {
   "cell_type": "code",
   "execution_count": 7,
   "id": "6dc4c2ba",
   "metadata": {
    "ExecuteTime": {
     "end_time": "2023-03-30T17:37:48.182134Z",
     "start_time": "2023-03-30T17:37:48.158062Z"
    }
   },
   "outputs": [
    {
     "name": "stdout",
     "output_type": "stream",
     "text": [
      "[2, 3, 4, 5, 2]\n"
     ]
    }
   ],
   "source": [
    "input_list = [1, 1, 2, 3, 4, 5, 1, 2, 1]\n",
    "element_to_remove = 1\n",
    "occured = set()\n",
    "\n",
    "new_list = []\n",
    "for el in input_list:\n",
    "    if not el == element_to_remove:\n",
    "        new_list.append(el)\n",
    "\n",
    "print(new_list)"
   ]
  },
  {
   "cell_type": "markdown",
   "id": "bf1a3c93",
   "metadata": {},
   "source": [
    "**37-write a python program to Replace index elements with elements in Other List (The original list 1 is : [‘Gfg’, ‘is’, ‘best’] The original list 2 is : [0, 1, 2, 1, 0, 0, 0, 2, 1, 1, 2, 0] The lists after index elements replacements is : [‘Gfg’, ‘is’, ‘best’, ‘is’, ‘Gfg’, ‘Gfg’, ‘Gfg’, ‘best’, ‘is’, ‘is’, ‘best’, ‘Gfg’])"
   ]
  },
  {
   "cell_type": "code",
   "execution_count": 13,
   "id": "fdd66a71",
   "metadata": {
    "ExecuteTime": {
     "end_time": "2023-03-30T17:43:56.684051Z",
     "start_time": "2023-03-30T17:43:56.668114Z"
    }
   },
   "outputs": [
    {
     "name": "stdout",
     "output_type": "stream",
     "text": [
      "['Gfg', 'is', 'best', 'is', 'Gfg', 'Gfg', 'Gfg', 'best', 'is', 'is', 'best', 'Gfg']\n"
     ]
    }
   ],
   "source": [
    "list_1 = ['Gfg', 'is', 'best']\n",
    "list_2 = [0, 1, 2, 1, 0, 0, 0, 2, 1, 1, 2, 0]\n",
    "\n",
    "list_dect = {k:v for k,v in enumerate(list_1)}\n",
    "\n",
    "new_list = []\n",
    "\n",
    "for index in list_2:\n",
    "    if index in list_dect:\n",
    "        new_list.append(list_dect[index])\n",
    "\n",
    "print(new_list)"
   ]
  },
  {
   "cell_type": "markdown",
   "id": "af0f56e8",
   "metadata": {},
   "source": [
    "**38- write python program to Retain records with N occurrences of K(Input : test_list = [(4, 5, 5, 4), (5, 4, 3)], K = 5, N = 2 \n",
    "Output : [(4, 5, 5, 4)]\n",
    "Input : test_list = [(4, 5, 5, 4), (5, 4, 3)], K = 5, N = 3 \n",
    "Output : [] )"
   ]
  },
  {
   "cell_type": "code",
   "execution_count": 19,
   "id": "67b06671",
   "metadata": {
    "ExecuteTime": {
     "end_time": "2023-03-30T17:49:51.868150Z",
     "start_time": "2023-03-30T17:49:51.855391Z"
    }
   },
   "outputs": [
    {
     "name": "stdout",
     "output_type": "stream",
     "text": [
      "[]\n"
     ]
    }
   ],
   "source": [
    "# test_list = [(4, 5, 5, 4), (5, 4, 3)]\n",
    "# K = 5\n",
    "# N = 2\n",
    "test_list = [(4, 5, 5, 4), (5, 4, 3)]\n",
    "K = 5\n",
    "N = 3\n",
    "\n",
    "\n",
    "element_found = [pair for pair in test_list if pair.count(K) == N]\n",
    "print(element_found)"
   ]
  },
  {
   "cell_type": "markdown",
   "id": "de76f183",
   "metadata": {},
   "source": [
    "**39-write a Python Program to Sort the list according to the column using lambda\n",
    "array = [[1, 3, 3], [2, 1, 2], [3, 2, 1]]\n",
    "Output :\n",
    "Sorted array specific to column 0, [[1, 3, 3], [2, 1, 2], [3, 2, 1]]\n",
    "Sorted array specific to column 1, [[2, 1, 2], [3, 2, 1], [1, 3, 3]]\n",
    "Sorted array specific to column 2, [[3, 2, 1], [2, 1, 2], [1, 3, 3]]"
   ]
  },
  {
   "cell_type": "code",
   "execution_count": 26,
   "id": "dc883308",
   "metadata": {
    "ExecuteTime": {
     "end_time": "2023-03-30T17:55:37.029669Z",
     "start_time": "2023-03-30T17:55:37.004934Z"
    }
   },
   "outputs": [
    {
     "name": "stdout",
     "output_type": "stream",
     "text": [
      "sorted array specific to column 0, [[1, 3, 3], [2, 1, 2], [3, 2, 1]]\n",
      "sorted array specific to column 1, [[2, 1, 2], [3, 2, 1], [1, 3, 3]]\n",
      "sorted array specific to column 2, [[3, 2, 1], [2, 1, 2], [1, 3, 3]]\n"
     ]
    }
   ],
   "source": [
    "test_list = [[1, 3, 3], [2, 1, 2], [3, 2, 1]]\n",
    "\n",
    "for i in range(len(test_list[0])):\n",
    "    print(f\"sorted array specific to column {i}, {sorted(test_list, key=lambda pair: pair[i])}\")"
   ]
  },
  {
   "cell_type": "markdown",
   "id": "8055c8fa",
   "metadata": {
    "ExecuteTime": {
     "end_time": "2023-03-30T17:49:59.168853Z",
     "start_time": "2023-03-30T17:49:59.144783Z"
    }
   },
   "source": [
    "**40- write a program to Sort Python Dictionaries by Key or Value\n",
    "Input:\n",
    "{'ravi': 10, 'rajnish': 9, 'sanjeev': 15, 'yash': 2, 'suraj': 32}\n",
    "\n",
    "Output: \n",
    "{'rajnish': 9, 'ravi': 10, 'sanjeev': 15, 'suraj': 32, 'yash': 2}"
   ]
  },
  {
   "cell_type": "markdown",
   "id": "356cca8e",
   "metadata": {},
   "source": [
    "**40- write a program to Sort Python Dictionaries by Key or Value\n",
    "Input:\n",
    "{'ravi': 10, 'rajnish': 9, 'sanjeev': 15, 'yash': 2, 'suraj': 32}\n",
    "\n",
    "Output: \n",
    "{'rajnish': 9, 'ravi': 10, 'sanjeev': 15, 'suraj': 32, 'yash': 2}"
   ]
  },
  {
   "cell_type": "code",
   "execution_count": 30,
   "id": "a96db4a0",
   "metadata": {
    "ExecuteTime": {
     "end_time": "2023-03-30T17:59:54.974539Z",
     "start_time": "2023-03-30T17:59:54.950035Z"
    }
   },
   "outputs": [
    {
     "data": {
      "text/plain": [
       "{'rajnish': 9, 'ravi': 10, 'sanjeev': 15, 'suraj': 32, 'yash': 2}"
      ]
     },
     "execution_count": 30,
     "metadata": {},
     "output_type": "execute_result"
    }
   ],
   "source": [
    "test_dict = {'ravi': 10, 'rajnish': 9, 'sanjeev': 15, 'yash': 2, 'suraj': 32}\n",
    "dict(sorted(test_dict.items(), key=lambda el: el))"
   ]
  },
  {
   "cell_type": "markdown",
   "id": "ec63c23a",
   "metadata": {},
   "source": [
    "**41-write python program to Remove keys with Values Greater than K ( Including mixed values )\n",
    "nput : test_dict = {‘Gfg’ : 3, ‘is’ : 7, ‘best’ : 10, ‘for’ : 6, ‘geeks’ : ‘CS’},\n",
    "K = 7 \n",
    "Output : {‘Gfg’ : 3, ‘for’ : 6, ‘geeks’ : ‘CS’}"
   ]
  },
  {
   "cell_type": "code",
   "execution_count": 49,
   "id": "e39c3a40",
   "metadata": {
    "ExecuteTime": {
     "end_time": "2023-03-30T18:07:14.380428Z",
     "start_time": "2023-03-30T18:07:14.373392Z"
    }
   },
   "outputs": [
    {
     "name": "stdout",
     "output_type": "stream",
     "text": [
      "{'Gfg': 3, 'for': 6, 'geeks': 'CS'}\n"
     ]
    }
   ],
   "source": [
    "test_dict = {'Gfg' : 3, 'is' : 7, 'best' : 10, 'for' : 6, 'geeks' : 'CS'}\n",
    "K = 7\n",
    "\n",
    "\n",
    "output_dict = {k: v for k, v in test_dict.items() if not isinstance(v, int) or v < K}\n",
    "print(output_dict)"
   ]
  },
  {
   "cell_type": "markdown",
   "id": "f143f0fe",
   "metadata": {},
   "source": [
    "**42-Write a Python program to concatenate the following dictionaries to create a new one\n",
    "\n",
    "Sample Dictionary :\n",
    "dic1={1:10, 2:20}\n",
    "dic2={3:30, 4:40}\n",
    "dic3={5:50,6:60}\n",
    "Expected Result : {1: 10, 2: 20, 3: 30, 4: 40, 5: 50, 6: 60}"
   ]
  },
  {
   "cell_type": "code",
   "execution_count": 54,
   "id": "74ffdfea",
   "metadata": {
    "ExecuteTime": {
     "end_time": "2023-03-30T18:10:05.794284Z",
     "start_time": "2023-03-30T18:10:05.778497Z"
    }
   },
   "outputs": [
    {
     "data": {
      "text/plain": [
       "{1: 10, 2: 20, 3: 30, 4: 40, 5: 50, 6: 60}"
      ]
     },
     "execution_count": 54,
     "metadata": {},
     "output_type": "execute_result"
    }
   ],
   "source": [
    "dic1 = {1: 10, 2: 20}\n",
    "dic2 = {3: 30, 4: 40}\n",
    "dic3 = {5: 50, 6: 60}\n",
    "\n",
    "dict(list(dic1.items()) + list(dic2.items()) + list(dic3.items()))"
   ]
  },
  {
   "cell_type": "code",
   "execution_count": 63,
   "id": "8b448bda",
   "metadata": {
    "ExecuteTime": {
     "end_time": "2023-03-30T18:11:52.788192Z",
     "start_time": "2023-03-30T18:11:52.764481Z"
    }
   },
   "outputs": [
    {
     "data": {
      "text/plain": [
       "{1: 10, 2: 20, 3: 30, 4: 40, 5: 50, 6: 60}"
      ]
     },
     "execution_count": 63,
     "metadata": {},
     "output_type": "execute_result"
    }
   ],
   "source": [
    "dic1 = {1: 10, 2: 20}\n",
    "dic2 = {3: 30, 4: 40}\n",
    "dic3 = {5: 50, 6: 60}\n",
    "\n",
    "# merge operator\n",
    "dic1 | dic2 | dic3"
   ]
  },
  {
   "cell_type": "code",
   "execution_count": 64,
   "id": "a96ffcce",
   "metadata": {
    "ExecuteTime": {
     "end_time": "2023-03-30T18:11:53.329590Z",
     "start_time": "2023-03-30T18:11:53.313472Z"
    }
   },
   "outputs": [
    {
     "data": {
      "text/plain": [
       "{1: 10, 2: 20, 3: 30, 4: 40, 5: 50, 6: 60}"
      ]
     },
     "execution_count": 64,
     "metadata": {},
     "output_type": "execute_result"
    }
   ],
   "source": [
    "dic1 = {1: 10, 2: 20}\n",
    "dic2 = {3: 30, 4: 40}\n",
    "dic3 = {5: 50, 6: 60}\n",
    "\n",
    "{**dic1, **dic2, **dic3}"
   ]
  },
  {
   "cell_type": "markdown",
   "id": "fb04c93c",
   "metadata": {},
   "source": [
    "**43-Write a Python program to iterate over dictionaries using for loops"
   ]
  },
  {
   "cell_type": "code",
   "execution_count": 65,
   "id": "6aebc470",
   "metadata": {
    "ExecuteTime": {
     "end_time": "2023-03-30T18:12:40.133279Z",
     "start_time": "2023-03-30T18:12:40.109434Z"
    }
   },
   "outputs": [
    {
     "name": "stdout",
     "output_type": "stream",
     "text": [
      "Gfg: 3\n",
      "is: 7\n",
      "best: 10\n",
      "for: 6\n",
      "geeks: CS\n"
     ]
    }
   ],
   "source": [
    "test_dict = {'Gfg' : 3, 'is' : 7, 'best' : 10, 'for' : 6, 'geeks' : 'CS'}\n",
    "\n",
    "for key, value in test_dict.items():\n",
    "    print(f\"{key}: {value}\")"
   ]
  },
  {
   "cell_type": "markdown",
   "id": "5f491a9d",
   "metadata": {},
   "source": [
    "**44- Write a Python script to merge two Python dictionaries"
   ]
  },
  {
   "cell_type": "code",
   "execution_count": 66,
   "id": "b8a14028",
   "metadata": {
    "ExecuteTime": {
     "end_time": "2023-03-30T18:13:10.770466Z",
     "start_time": "2023-03-30T18:13:10.754126Z"
    }
   },
   "outputs": [
    {
     "data": {
      "text/plain": [
       "{1: 10, 2: 20, 3: 30, 4: 40}"
      ]
     },
     "execution_count": 66,
     "metadata": {},
     "output_type": "execute_result"
    }
   ],
   "source": [
    "dic1 = {1: 10, 2: 20}\n",
    "dic2 = {3: 30, 4: 40}\n",
    "\n",
    "# merge operator\n",
    "dic1 | dic2"
   ]
  },
  {
   "cell_type": "markdown",
   "id": "216fc72d",
   "metadata": {},
   "source": [
    "**45-Write a Python program to get the maximum and minimum values of a dictionary values"
   ]
  },
  {
   "cell_type": "code",
   "execution_count": 73,
   "id": "d6883f5f",
   "metadata": {
    "ExecuteTime": {
     "end_time": "2023-03-30T18:17:57.586103Z",
     "start_time": "2023-03-30T18:17:57.561680Z"
    }
   },
   "outputs": [
    {
     "name": "stdout",
     "output_type": "stream",
     "text": [
      "maximum = 10, minimum = 3\n"
     ]
    }
   ],
   "source": [
    "test_dict = {'Gfg' : 3, 'is' : 7, 'best' : 10, 'for' : 6}\n",
    "# maximum = max(test_dict.items(), key=lambda x: x[1])\n",
    "# minimum = min(test_dict.items(), key=lambda x: x[1])\n",
    "maximum = max(test_dict.values())\n",
    "minimum = min(test_dict.values())\n",
    "\n",
    "# print(f\"maximum = {maximum[1]}, minimum = {minimum[1]}\")\n",
    "print(f\"maximum = {maximum}, minimum = {minimum}\")"
   ]
  },
  {
   "cell_type": "markdown",
   "id": "b6a53011",
   "metadata": {},
   "source": [
    "**46- Write a Python program to drop empty items from a given dictionary.\n",
    "Original Dictionary:\n",
    "{'c1': 'Red', 'c2': 'Green', 'c3': None}\n",
    "New Dictionary after dropping empty items:\n",
    "{'c1': 'Red', 'c2': 'Green'}"
   ]
  },
  {
   "cell_type": "code",
   "execution_count": 75,
   "id": "b5c6fecf",
   "metadata": {
    "ExecuteTime": {
     "end_time": "2023-03-30T18:21:10.210746Z",
     "start_time": "2023-03-30T18:21:10.195785Z"
    }
   },
   "outputs": [
    {
     "name": "stdout",
     "output_type": "stream",
     "text": [
      "{'c1': 'Red', 'c2': 'Green'}\n"
     ]
    }
   ],
   "source": [
    "test_dict = {'c1': 'Red', 'c2': 'Green', 'c3': None}\n",
    "\n",
    "new_dict = {k: v for k, v in test_dict.items() if v}\n",
    "print(new_dict)"
   ]
  },
  {
   "cell_type": "markdown",
   "id": "46d718c7",
   "metadata": {},
   "source": [
    "\n",
    "**47-Write a Python program to create a tuple of numbers and print one item"
   ]
  },
  {
   "cell_type": "code",
   "execution_count": 78,
   "id": "13216ff5",
   "metadata": {
    "ExecuteTime": {
     "end_time": "2023-03-30T18:22:17.048146Z",
     "start_time": "2023-03-30T18:22:17.024515Z"
    }
   },
   "outputs": [
    {
     "name": "stdout",
     "output_type": "stream",
     "text": [
      "<class 'tuple'>\n",
      "1\n"
     ]
    }
   ],
   "source": [
    "test_tuple = (1, 2, 3, 4, 5)\n",
    "print(type(test_tuple))\n",
    "print(test_tuple[0])"
   ]
  },
  {
   "cell_type": "markdown",
   "id": "2be5b56b",
   "metadata": {},
   "source": [
    "**48-Write a Python program to unpack a tuple into several variables"
   ]
  },
  {
   "cell_type": "code",
   "execution_count": 79,
   "id": "595f44be",
   "metadata": {
    "ExecuteTime": {
     "end_time": "2023-03-30T18:22:33.840530Z",
     "start_time": "2023-03-30T18:22:33.825473Z"
    }
   },
   "outputs": [
    {
     "name": "stdout",
     "output_type": "stream",
     "text": [
      "1 2 3\n"
     ]
    }
   ],
   "source": [
    "test_tuple = (1, 2, 3)\n",
    "x, y, z = test_tuple\n",
    "print(x, y, z)"
   ]
  },
  {
   "cell_type": "markdown",
   "id": "392388a7",
   "metadata": {},
   "source": [
    "**49-Write a Python program to add an item to a tuple"
   ]
  },
  {
   "cell_type": "code",
   "execution_count": 90,
   "id": "54cc092e",
   "metadata": {
    "ExecuteTime": {
     "end_time": "2023-03-30T18:25:21.368595Z",
     "start_time": "2023-03-30T18:25:21.353830Z"
    }
   },
   "outputs": [
    {
     "name": "stdout",
     "output_type": "stream",
     "text": [
      "(1, 2, 3, 4)\n"
     ]
    }
   ],
   "source": [
    "tuple_1 = (1, 2, 3)\n",
    "\n",
    "list_tuple = list(tuple_1)\n",
    "list_tuple.append(4)\n",
    "\n",
    "tuple_2 = tuple(list_tuple)\n",
    "\n",
    "print(tuple_2)"
   ]
  },
  {
   "cell_type": "markdown",
   "id": "3e8fd124",
   "metadata": {},
   "source": [
    "**50-Write a Python program to convert a tuple to a string"
   ]
  },
  {
   "cell_type": "code",
   "execution_count": 95,
   "id": "92a71ddc",
   "metadata": {
    "ExecuteTime": {
     "end_time": "2023-03-30T18:26:35.548016Z",
     "start_time": "2023-03-30T18:26:35.540407Z"
    }
   },
   "outputs": [
    {
     "name": "stdout",
     "output_type": "stream",
     "text": [
      "<class 'str'>\n",
      "(1, 2, 3, 4)\n"
     ]
    }
   ],
   "source": [
    "test_list = (1, 2, 3, 4)\n",
    "string = str(test_list)\n",
    "print(type(string))\n",
    "print(string)\n"
   ]
  },
  {
   "cell_type": "markdown",
   "id": "f4f64ef4",
   "metadata": {},
   "source": [
    "**51-Write a Python program to convert a list to a tuple"
   ]
  },
  {
   "cell_type": "code",
   "execution_count": 98,
   "id": "210d56d3",
   "metadata": {
    "ExecuteTime": {
     "end_time": "2023-03-30T18:28:32.640688Z",
     "start_time": "2023-03-30T18:28:32.632108Z"
    }
   },
   "outputs": [
    {
     "name": "stdout",
     "output_type": "stream",
     "text": [
      "<class 'tuple'>\n",
      "(1, 2, 3, 4)\n"
     ]
    }
   ],
   "source": [
    "test_list = [1, 2, 3, 4]\n",
    "\n",
    "output_tuple = tuple(test_list)\n",
    "\n",
    "print(type(output_tuple))\n",
    "print(output_tuple)"
   ]
  },
  {
   "cell_type": "markdown",
   "id": "b1e00ef7",
   "metadata": {},
   "source": [
    "**52-Write a Python program to reverse a tuple"
   ]
  },
  {
   "cell_type": "code",
   "execution_count": 100,
   "id": "f45bfdc7",
   "metadata": {
    "ExecuteTime": {
     "end_time": "2023-03-30T18:29:57.382354Z",
     "start_time": "2023-03-30T18:29:57.367114Z"
    }
   },
   "outputs": [
    {
     "name": "stdout",
     "output_type": "stream",
     "text": [
      "(5, 4, 3, 2, 1)\n"
     ]
    }
   ],
   "source": [
    "input_tuple = (1, 2, 3, 4, 5)\n",
    "\n",
    "output_tuple = input_tuple[::-1]\n",
    "print(output_tuple)"
   ]
  },
  {
   "cell_type": "markdown",
   "id": "3cd347d1",
   "metadata": {},
   "source": [
    "**53-Write a Python program to replace the last value of tuples in a list.\n",
    "Sample list: [(10, 20, 40), (40, 50, 60), (70, 80, 90)]\n",
    "Expected Output: [(10, 20, 100), (40, 50, 100), (70, 80, 100)]"
   ]
  },
  {
   "cell_type": "code",
   "execution_count": 108,
   "id": "3c4a2a4c",
   "metadata": {
    "ExecuteTime": {
     "end_time": "2023-03-30T18:34:25.389821Z",
     "start_time": "2023-03-30T18:34:25.373674Z"
    }
   },
   "outputs": [
    {
     "data": {
      "text/plain": [
       "[(10, 20, 100), (40, 50, 100), (70, 80, 100)]"
      ]
     },
     "execution_count": 108,
     "metadata": {},
     "output_type": "execute_result"
    }
   ],
   "source": [
    "test_tuple = [(10, 20, 40), (40, 50, 60), (70, 80, 90)]\n",
    "value = 100\n",
    "list(map(lambda x: (x[0],x[1],value), test_tuple))"
   ]
  },
  {
   "cell_type": "code",
   "execution_count": 109,
   "id": "1c09b11e",
   "metadata": {
    "ExecuteTime": {
     "end_time": "2023-03-30T18:35:58.010015Z",
     "start_time": "2023-03-30T18:35:57.987403Z"
    }
   },
   "outputs": [
    {
     "name": "stdout",
     "output_type": "stream",
     "text": [
      "[(10, 20, 100), (40, 50, 100), (70, 80, 100)]\n"
     ]
    }
   ],
   "source": [
    "test_tuple = [(10, 20, 40), (40, 50, 60), (70, 80, 90)]\n",
    "value = 100\n",
    "\n",
    "output_tuple = []\n",
    "\n",
    "for tp in test_tuple:\n",
    "    temp_list = list(tp[:-1])\n",
    "    temp_list.append(value)\n",
    "    output_tuple.append(tuple(temp_list))\n",
    "\n",
    "print(output_tuple)"
   ]
  },
  {
   "cell_type": "markdown",
   "id": "76bb7b39",
   "metadata": {},
   "source": [
    "**54-Write a Python program to convert a given string list to a tuple\n",
    "Original string: python 3.0\n",
    "<class 'str'>\n",
    "Convert the said string to a tuple:\n",
    "('p', 'y', 't', 'h', 'o', 'n', '3', '.', '0')"
   ]
  },
  {
   "cell_type": "code",
   "execution_count": 107,
   "id": "51951937",
   "metadata": {
    "ExecuteTime": {
     "end_time": "2023-03-30T18:33:53.018508Z",
     "start_time": "2023-03-30T18:33:52.993618Z"
    }
   },
   "outputs": [
    {
     "data": {
      "text/plain": [
       "('p', 'y', 't', 'h', 'o', 'n', ' ', '3', '.', '0')"
      ]
     },
     "execution_count": 107,
     "metadata": {},
     "output_type": "execute_result"
    }
   ],
   "source": [
    "string = \"python 3.0\"\n",
    "tuple(string)"
   ]
  },
  {
   "cell_type": "markdown",
   "id": "5a1d5d97",
   "metadata": {},
   "source": [
    "**55-Write a Python program to calculate the average value of the numbers in a given tuple of tuples"
   ]
  },
  {
   "cell_type": "code",
   "execution_count": 113,
   "id": "834e7992",
   "metadata": {
    "ExecuteTime": {
     "end_time": "2023-03-30T18:36:56.067466Z",
     "start_time": "2023-03-30T18:36:56.052240Z"
    }
   },
   "outputs": [
    {
     "name": "stdout",
     "output_type": "stream",
     "text": [
      "2.5\n"
     ]
    }
   ],
   "source": [
    "test_tuple = (1, 2, 3, 4)\n",
    "print(sum(test_tuple)/ len(test_tuple))"
   ]
  },
  {
   "cell_type": "markdown",
   "id": "51edab9c",
   "metadata": {},
   "source": [
    "**56-Write a Python program to add member(s) to a set."
   ]
  },
  {
   "cell_type": "code",
   "execution_count": 115,
   "id": "2b65df79",
   "metadata": {
    "ExecuteTime": {
     "end_time": "2023-03-30T18:37:42.581571Z",
     "start_time": "2023-03-30T18:37:42.567793Z"
    }
   },
   "outputs": [
    {
     "name": "stdout",
     "output_type": "stream",
     "text": [
      "<class 'set'>\n",
      "{1, 2, 3, 4, 5}\n"
     ]
    }
   ],
   "source": [
    "test_set = {1, 2, 3, 4}\n",
    "print(type(test_set))\n",
    "\n",
    "test_set.add(5)\n",
    "print(test_set)"
   ]
  },
  {
   "cell_type": "markdown",
   "id": "965590cc",
   "metadata": {},
   "source": [
    "**57-Write a Python program to remove an item from a set if it is present in the set."
   ]
  },
  {
   "cell_type": "code",
   "execution_count": 117,
   "id": "866bab28",
   "metadata": {
    "ExecuteTime": {
     "end_time": "2023-03-30T18:38:42.396338Z",
     "start_time": "2023-03-30T18:38:42.380701Z"
    }
   },
   "outputs": [
    {
     "name": "stdout",
     "output_type": "stream",
     "text": [
      "{1, 2, 3, 5, 6, 7, 8}\n"
     ]
    }
   ],
   "source": [
    "test_set = {1, 10, 2, 3, 7, 8, 5, 6}\n",
    "value = 10\n",
    "\n",
    "if value in test_set:\n",
    "    test_set.remove(value)\n",
    "\n",
    "print(test_set)\n"
   ]
  },
  {
   "cell_type": "markdown",
   "id": "2b7cfed1",
   "metadata": {},
   "source": [
    "**58-Write a Python program to create an intersection,union,difference and symmetric difference of sets"
   ]
  },
  {
   "cell_type": "code",
   "execution_count": 122,
   "id": "7f94b7fe",
   "metadata": {
    "ExecuteTime": {
     "end_time": "2023-03-30T18:41:24.268028Z",
     "start_time": "2023-03-30T18:41:24.252785Z"
    }
   },
   "outputs": [
    {
     "name": "stdout",
     "output_type": "stream",
     "text": [
      "{4, 5}\n",
      "{1, 2, 3, 4, 5, 6, 7}\n",
      "{1, 2, 3}\n",
      "{1, 2, 3, 6, 7}\n"
     ]
    }
   ],
   "source": [
    "test_set =  {1, 2, 3, 4, 5}\n",
    "test_set2 = {4, 5, 6, 7}\n",
    "print(test_set.intersection(test_set2))\n",
    "print(test_set.union(test_set2))\n",
    "print(test_set.difference(test_set2))\n",
    "print(test_set.symmetric_difference(test_set2))\n"
   ]
  },
  {
   "cell_type": "markdown",
   "id": "b94931e2",
   "metadata": {},
   "source": [
    "**59-Write a Python program to find the maximum and minimum values in a set"
   ]
  },
  {
   "cell_type": "code",
   "execution_count": 123,
   "id": "203f9600",
   "metadata": {
    "ExecuteTime": {
     "end_time": "2023-03-30T18:41:46.573454Z",
     "start_time": "2023-03-30T18:41:46.558513Z"
    }
   },
   "outputs": [
    {
     "name": "stdout",
     "output_type": "stream",
     "text": [
      "5\n",
      "1\n"
     ]
    }
   ],
   "source": [
    "test_set =  {1, 2, 3, 4, 5}\n",
    "print(max(test_set))\n",
    "print(min(test_set))"
   ]
  },
  {
   "cell_type": "markdown",
   "id": "255fd554",
   "metadata": {},
   "source": [
    "**60- Write a Python program that finds all pairs of elements in a list whose sum is equal to a given value."
   ]
  },
  {
   "cell_type": "code",
   "execution_count": null,
   "id": "c2d94e1f",
   "metadata": {},
   "outputs": [],
   "source": []
  }
 ],
 "metadata": {
  "kernelspec": {
   "display_name": "Python 3 (ipykernel)",
   "language": "python",
   "name": "python3"
  },
  "language_info": {
   "codemirror_mode": {
    "name": "ipython",
    "version": 3
   },
   "file_extension": ".py",
   "mimetype": "text/x-python",
   "name": "python",
   "nbconvert_exporter": "python",
   "pygments_lexer": "ipython3",
   "version": "3.10.10"
  }
 },
 "nbformat": 4,
 "nbformat_minor": 5
}
